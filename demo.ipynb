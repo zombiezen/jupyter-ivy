{
 "cells": [
  {
   "cell_type": "markdown",
   "id": "b7c8acef-593b-4558-a212-9c5a0155adc2",
   "metadata": {},
   "source": [
    "# Ivy Demo\n",
    "\n",
    "This is a demo of ivy as a Jupyter notebook. It is derived from the [official demo](https://github.com/robpike/ivy/blob/80fd3e974cbf1ed8b0efa0d38653bb184bb5ada2/demo/demo.ivy) under a [BSD License](https://github.com/robpike/ivy/blob/80fd3e974cbf1ed8b0efa0d38653bb184bb5ada2/LICENSE)."
   ]
  },
  {
   "cell_type": "code",
   "execution_count": 1,
   "id": "afb35427-7a0e-477b-9744-a74a5f17c8da",
   "metadata": {},
   "outputs": [
    {
     "name": "stdout",
     "output_type": "stream",
     "text": [
      "4\n"
     ]
    }
   ],
   "source": [
    "2+2"
   ]
  },
  {
   "cell_type": "markdown",
   "id": "2b0f06c7-354a-46b7-b8db-ad9cad08cedb",
   "metadata": {},
   "source": [
    "The first line you see above (2+2) is input; the next (4) is output from a running ivy. \\\n",
    "Comments start with `#` and produce no output. \\\n",
    "Arithmetic has the obvious operations: `+` `-` `*` etc. `**` is exponentiation. `mod` is modulo."
   ]
  },
  {
   "cell_type": "code",
   "execution_count": 2,
   "id": "127f5071-58ab-4edd-9f5a-7a4a70df144e",
   "metadata": {},
   "outputs": [
    {
     "name": "stdout",
     "output_type": "stream",
     "text": [
      "23\n",
      "68\n",
      "1035\n",
      "-22\n",
      "343\n",
      "1\n"
     ]
    }
   ],
   "source": [
    "23\n",
    "23 + 45\n",
    "23 * 45\n",
    "23 - 45\n",
    "7 ** 3\n",
    "7 mod 3"
   ]
  },
  {
   "cell_type": "markdown",
   "id": "30a0be4b-8a7a-46ef-ac48-43ab83cd798e",
   "metadata": {},
   "source": [
    "Operator precedence is unusual. \\\n",
    "Unary operators operate on everything to the right. \\\n",
    "Binary operators operate on the item immediately to the left, and everything to the right."
   ]
  },
  {
   "cell_type": "code",
   "execution_count": 3,
   "id": "9b80d8fd-e52a-4d56-bd9b-2efbe3269660",
   "metadata": {},
   "outputs": [
    {
     "name": "stdout",
     "output_type": "stream",
     "text": [
      "14\n",
      "32\n",
      "7\n"
     ]
    }
   ],
   "source": [
    "2*3+4     # Parsed as 2*(3+4), not the usual (2*3)+4.\n",
    "2**2+3    # 2**5, not (2**2) + 3\n",
    "(2**2)+3  # Use parentheses if you need to group differently."
   ]
  },
  {
   "cell_type": "markdown",
   "id": "b21b5347-cdff-44ab-a40b-2b11ad413317",
   "metadata": {},
   "source": [
    "Ivy can do rational arithmetic, so `1/3` is really $\\frac{1}{3}$, not $0.333\\ldots$"
   ]
  },
  {
   "cell_type": "code",
   "execution_count": 4,
   "id": "2e766fa2-682b-4a59-ad16-536fc3f65c4a",
   "metadata": {},
   "outputs": [
    {
     "name": "stdout",
     "output_type": "stream",
     "text": [
      "1/3\n",
      "17/15\n",
      "1/9\n"
     ]
    }
   ],
   "source": [
    "1/3\n",
    "1/3 + 4/5\n",
    "1/3 ** 2  # We'll see non-integral exponents later."
   ]
  },
  {
   "cell_type": "markdown",
   "id": "9b9e2d04-5659-471a-ae1e-f077ca7735cf",
   "metadata": {},
   "source": [
    "Even when a number is input in floating notation, it is still an exact rational number inside."
   ]
  },
  {
   "cell_type": "code",
   "execution_count": 5,
   "id": "e407c994-890f-4d89-91d4-0faaad3a5b2d",
   "metadata": {},
   "outputs": [
    {
     "name": "stdout",
     "output_type": "stream",
     "text": [
      "6/5\n"
     ]
    }
   ],
   "source": [
    "1.2"
   ]
  },
  {
   "cell_type": "markdown",
   "id": "07cafbb3-93ab-4e80-93d0-e56f298887ce",
   "metadata": {},
   "source": [
    "In fact, ivy is a \"bignum\" calculator that can handle huge numbers and rationals made of huge numbers."
   ]
  },
  {
   "cell_type": "code",
   "execution_count": 6,
   "id": "ff20c98f-73c2-4bb0-8889-9ed8b31680e7",
   "metadata": {},
   "outputs": [
    {
     "name": "stdout",
     "output_type": "stream",
     "text": [
      "10000000000\n",
      "10000000000000000000000000000000000000000000000000000000000000000000000000000000000000000000000000000\n",
      "10000000000/3\n",
      "3/10000000000\n",
      "18446744073709551616\n",
      "4562440617622195218641171605700291324893228507248559930579192517899275167208677386505912811317371399778642309573594407310688704721375437998252661319722214188251994674360264950082874192246603776\n"
     ]
    }
   ],
   "source": [
    "1e10       # Still an integer.\n",
    "1e100      # Still an integer.\n",
    "1e10/3     # Not an integer, but an exact rational.\n",
    "3/1e10     # Not an integer, but an exact rational.\n",
    "2**64      # They can get big.\n",
    "2**640     # They can get really big."
   ]
  },
  {
   "cell_type": "markdown",
   "id": "038397eb-f977-4b75-af34-bca3d9bf487a",
   "metadata": {},
   "source": [
    "They can get really really big. This is $2^{6400}$:"
   ]
  },
  {
   "cell_type": "code",
   "execution_count": 7,
   "id": "a2730ee4-44d5-4904-8a37-05bf54be8824",
   "metadata": {},
   "outputs": [
    {
     "name": "stdout",
     "output_type": "stream",
     "text": [
      "3908159226643238733174614283614836731126768107046341227250667472076853556843013838172049588691174330707818243450118448302812729951247321576513166624369426519566175521146060765081679976758041720679300544142578899999682218145590731711215852375861916259684264866953944533853780206232109689860956552348006732061695789938930646213944790078445226547509325302609329069445117085739611168420511100727807029960219755304683343928522835681236580544749345772997687789272005780505845692810279598474814928801575139205787258048513369093710961312514682075899525393917486191722044010992536554254433346757797401453317441157668323475117378300300675380311411783720892291860208840935427421876878495172143644788379083826461955232814452670024106634029782444314857725946984340662589552137681187058855370840678104158373102913142935322248166923135606488577076176786571072087787275721151671449698445547824376581179228842823243076579850082699440910879690172701654935338585419237394528910219466400398711390146945174827484382033620349117027739850870285498619302796390659011030983899571129475531951900699941995728715779973392015185546940934704246331341905671381265137758178677705185913030002603348040480378452842334938835344896384986472605870643265219489006098190067654108321170943392355400613564249445645639510323755781809289920764767965983067048457794256504910798982324928635401543742404992470685295256712710005713066462569470457811357440928814052826871480405082643768534413838217558052879567404685419337070919454165543913926254797535062175403291840282437565784510890527884282609693788352728845075427184666736270904718599967377231129340602704541090595660344392945021559935525438319887090353617135488670209943492849139965846896740313626495887105269676175557097165018916853148260794391708438199220888781289029685829505315773902138853990717604142885719601697094720405328129745119056694810317474513400330333517233611193133379954007384384395034058799871873253376\n"
     ]
    }
   ],
   "source": [
    "2**6400"
   ]
  },
  {
   "cell_type": "markdown",
   "id": "c210d0ec-2056-40a0-a444-94ef06ddf2a2",
   "metadata": {},
   "source": [
    "Complex numbers are supported.  $1+3i$ is made like this:"
   ]
  },
  {
   "cell_type": "code",
   "execution_count": 8,
   "id": "8ddd4726-a8bd-492c-8a9a-acccbc4853ed",
   "metadata": {},
   "outputs": [
    {
     "name": "stdout",
     "output_type": "stream",
     "text": [
      "1j3\n"
     ]
    }
   ],
   "source": [
    "1j3"
   ]
  },
  {
   "cell_type": "markdown",
   "id": "d57afe25-f716-444e-b8ae-0487819fdde3",
   "metadata": {},
   "source": [
    "The `j` operator constructs a complex number:"
   ]
  },
  {
   "cell_type": "code",
   "execution_count": 9,
   "id": "d512c298-2149-43ab-97c7-7fce351dd38f",
   "metadata": {},
   "outputs": [
    {
     "name": "stdout",
     "output_type": "stream",
     "text": [
      "1j3\n"
     ]
    }
   ],
   "source": [
    "1 j 3"
   ]
  },
  {
   "cell_type": "markdown",
   "id": "23763586",
   "metadata": {},
   "source": [
    "And all the operations you might expect apply to complex numbers.\n"
   ]
  },
  {
   "cell_type": "code",
   "execution_count": 10,
   "id": "8ca4848e",
   "metadata": {},
   "outputs": [
    {
     "name": "stdout",
     "output_type": "stream",
     "text": [
      "0j1\n",
      "0.507356303217j-1.46935174437\n"
     ]
    }
   ],
   "source": [
    "sqrt -1\n",
    "acos 2j1"
   ]
  },
  {
   "cell_type": "markdown",
   "id": "3ba3898a",
   "metadata": {},
   "source": [
    "Ivy also has characters, which represent a Unicode code point."
   ]
  },
  {
   "cell_type": "code",
   "execution_count": 11,
   "id": "09056ed0",
   "metadata": {},
   "outputs": [
    {
     "name": "stdout",
     "output_type": "stream",
     "text": [
      "x\n",
      "a\n",
      "💩\n",
      "128169\n"
     ]
    }
   ],
   "source": [
    "'x'\n",
    "char 0x61     # char is an operator: character with given value.\n",
    "char 0x1f4a9\n",
    "code '💩'      # char's inverse, the value of given character, here printed in decimal."
   ]
  },
  {
   "cell_type": "markdown",
   "id": "71e4c0c9",
   "metadata": {},
   "source": [
    "## Vectors\n",
    "\n",
    "Everything in ivy can be placed into a vector. \\\n",
    "Vectors are written and displayed with spaces between the elements."
   ]
  },
  {
   "cell_type": "code",
   "execution_count": 12,
   "id": "60edb315",
   "metadata": {},
   "outputs": [
    {
     "name": "stdout",
     "output_type": "stream",
     "text": [
      "1 2 3\n",
      "1 4/3 5/3 7/3\n"
     ]
    }
   ],
   "source": [
    "1 2 3\n",
    "1 4/3 5/3 (2+1/3)"
   ]
  },
  {
   "cell_type": "markdown",
   "id": "bf4024e2",
   "metadata": {},
   "source": [
    "Note that without the parens this becomes `(1 4/3 5/3 2)+1/3`."
   ]
  },
  {
   "cell_type": "code",
   "execution_count": 13,
   "id": "90d1962e",
   "metadata": {},
   "outputs": [
    {
     "name": "stdout",
     "output_type": "stream",
     "text": [
      "4/3 5/3 2 7/3\n"
     ]
    }
   ],
   "source": [
    "1 4/3 5/3 2+1/3"
   ]
  },
  {
   "cell_type": "markdown",
   "id": "530c2b2e",
   "metadata": {},
   "source": [
    "Vectors of characters print without quotes or spaces."
   ]
  },
  {
   "cell_type": "code",
   "execution_count": 14,
   "id": "45ad683c",
   "metadata": {},
   "outputs": [
    {
     "name": "stdout",
     "output_type": "stream",
     "text": [
      "hello\n"
     ]
    }
   ],
   "source": [
    "'h' 'e' 'l' 'l' 'o'"
   ]
  },
  {
   "cell_type": "markdown",
   "id": "604dd9de",
   "metadata": {},
   "source": [
    "This is a nicer way to write `'h' 'e' 'l' 'l' 'o'`. It means the same."
   ]
  },
  {
   "cell_type": "code",
   "execution_count": 15,
   "id": "530e15c6",
   "metadata": {},
   "outputs": [
    {
     "name": "stdout",
     "output_type": "stream",
     "text": [
      "hello\n"
     ]
    }
   ],
   "source": [
    "'hello'"
   ]
  },
  {
   "cell_type": "markdown",
   "id": "2321efba",
   "metadata": {},
   "source": [
    "Arithmetic works elementwise on vectors."
   ]
  },
  {
   "cell_type": "code",
   "execution_count": 16,
   "id": "c6e6ff2a",
   "metadata": {},
   "outputs": [
    {
     "name": "stdout",
     "output_type": "stream",
     "text": [
      "5 7 9\n"
     ]
    }
   ],
   "source": [
    "1 2 3 + 4 5 6"
   ]
  },
  {
   "cell_type": "markdown",
   "id": "f71c101d",
   "metadata": {},
   "source": [
    "Arithmetic between scalar and vector also works, either way."
   ]
  },
  {
   "cell_type": "code",
   "execution_count": 17,
   "id": "f3cc4f46",
   "metadata": {},
   "outputs": [
    {
     "name": "stdout",
     "output_type": "stream",
     "text": [
      "24 25 26\n",
      "24 25 26\n"
     ]
    }
   ],
   "source": [
    "23 + 1 2 3\n",
    "1 2 3 + 23   # Note the grouping: vector is a single value."
   ]
  },
  {
   "cell_type": "markdown",
   "id": "f53d9a4f",
   "metadata": {},
   "source": [
    "More fun with scalar and vector."
   ]
  },
  {
   "cell_type": "code",
   "execution_count": 18,
   "id": "e8b150a2",
   "metadata": {},
   "outputs": [
    {
     "name": "stdout",
     "output_type": "stream",
     "text": [
      "2 4 8 16 32\n",
      "1 1 1 1 1\n"
     ]
    }
   ],
   "source": [
    "1 << 1 2 3 4 5\n",
    "(1 << 1 2 3 4 5) == (2 ** 1 2 3 4 5)  # Note: true is 1, false is 0."
   ]
  },
  {
   "cell_type": "markdown",
   "id": "f3c74670",
   "metadata": {},
   "source": [
    "`iota` is an \"index generator\": It counts from 1."
   ]
  },
  {
   "cell_type": "code",
   "execution_count": 19,
   "id": "70f58aa3",
   "metadata": {},
   "outputs": [
    {
     "name": "stdout",
     "output_type": "stream",
     "text": [
      "1 2 3 4 5 6 7 8 9 10\n",
      "2 4 8 16 32\n",
      "1 1 1 1 1 1 1 1 1 1 1 1 1 1 1 1 1 1 1 1 1 1 1 1 1 1 1 1 1 1 1 1 1 1 1 1 1 1 1 1 1 1 1 1 1 1 1 1 1 1 1 1 1 1 1 1 1 1 1 1 1 1 1 1 1 1 1 1 1 1 1 1 1 1 1 1 1 1 1 1 1 1 1 1 1 1 1 1 1 1 1 1 1 1 1 1 1 1 1 1\n",
      "1 2 4 8 16 32 64 128 256 512 1024 2048 4096 8192 16384 32768 65536 131072 262144 524288 1048576 2097152 4194304 8388608 16777216 33554432 67108864 134217728 268435456 536870912 1073741824 2147483648\n"
     ]
    }
   ],
   "source": [
    "iota 10\n",
    "2 ** iota 5\n",
    "(1 << iota 100) == 2 ** iota 100\n",
    "2 ** -1 + iota 32 # Again, see how the precedence rules work."
   ]
  },
  {
   "cell_type": "markdown",
   "id": "301ea446",
   "metadata": {},
   "source": [
    "The `take` operator removes $n$ items from the beginning of the vector."
   ]
  },
  {
   "cell_type": "code",
   "execution_count": 20,
   "id": "39e802b7",
   "metadata": {},
   "outputs": [
    {
     "name": "stdout",
     "output_type": "stream",
     "text": [
      "1 2 3\n",
      "8 9 10\n"
     ]
    }
   ],
   "source": [
    "3 take iota 10\n",
    "-3 take iota 10     # Negative n takes from the end."
   ]
  },
  {
   "cell_type": "markdown",
   "id": "bb03d04c",
   "metadata": {},
   "source": [
    "`drop` is the other half: it drops $n$ from the vector."
   ]
  },
  {
   "cell_type": "code",
   "execution_count": 21,
   "id": "e5a466ee",
   "metadata": {},
   "outputs": [
    {
     "name": "stdout",
     "output_type": "stream",
     "text": [
      "4 5 6 7 8 9 10\n",
      "1 2 3 4 5 6 7\n",
      "world\n"
     ]
    }
   ],
   "source": [
    "3 drop iota 10\n",
    "-3 drop iota 10     # Negative n drops from the end.\n",
    "6 drop 'hello world'\n"
   ]
  },
  {
   "cell_type": "markdown",
   "id": "8dc66727",
   "metadata": {},
   "source": [
    "### Reduction"
   ]
  },
  {
   "cell_type": "code",
   "execution_count": 22,
   "id": "48e5d4a8",
   "metadata": {},
   "outputs": [
    {
     "name": "stdout",
     "output_type": "stream",
     "text": [
      "1 2 3 4 5 6 7 8 9 10 11 12 13 14 15\n"
     ]
    }
   ],
   "source": [
    "iota 15"
   ]
  },
  {
   "cell_type": "markdown",
   "id": "df3bddbf",
   "metadata": {},
   "source": [
    "Add them up:"
   ]
  },
  {
   "cell_type": "code",
   "execution_count": 23,
   "id": "e9d5ab0c",
   "metadata": {},
   "outputs": [
    {
     "name": "stdout",
     "output_type": "stream",
     "text": [
      "120\n"
     ]
    }
   ],
   "source": [
    "1 + 2 + 3 + 4 + 5 + 6 + 7 + 8 + 9 + 10 + 11 + 12 + 13 + 14 + 15"
   ]
  },
  {
   "cell_type": "markdown",
   "id": "7084d93e",
   "metadata": {},
   "source": [
    "Automate this by reducing `+` over the vector, like this:"
   ]
  },
  {
   "cell_type": "code",
   "execution_count": 24,
   "id": "20cf1a4e",
   "metadata": {},
   "outputs": [
    {
     "name": "stdout",
     "output_type": "stream",
     "text": [
      "120\n"
     ]
    }
   ],
   "source": [
    "+/iota 15\n"
   ]
  },
  {
   "cell_type": "markdown",
   "id": "590a99fa",
   "metadata": {},
   "source": [
    "We can reduce using any binary operator. This is factorial:"
   ]
  },
  {
   "cell_type": "code",
   "execution_count": 25,
   "id": "960a3ad9",
   "metadata": {},
   "outputs": [
    {
     "name": "stdout",
     "output_type": "stream",
     "text": [
      "3628800\n",
      "3628800\n",
      "93326215443944152681699238856266700490715968264381621468592963895217599993229915608941463976156518286253697920827223758251185210916864000000000000000000000000\n"
     ]
    }
   ],
   "source": [
    "1 * 2 * 3 * 4 * 5 * 6 * 7 * 8 * 9 * 10\n",
    "*/iota 10\n",
    "*/iota 100\n"
   ]
  },
  {
   "cell_type": "code",
   "execution_count": 26,
   "id": "954e95c3",
   "metadata": {},
   "outputs": [
    {
     "name": "stdout",
     "output_type": "stream",
     "text": [
      "2.84625968092e+35659\n"
     ]
    }
   ],
   "source": [
    "*/iota 10000"
   ]
  },
  {
   "cell_type": "markdown",
   "id": "7918bef1",
   "metadata": {},
   "source": [
    "That printed using floating-point notation for manageability but it is still an integer inside."
   ]
  },
  {
   "cell_type": "markdown",
   "id": "4b547a42",
   "metadata": {},
   "source": [
    "### Max and Min\n",
    "\n",
    "`max` and `min` are binary operators that do the obvious. (Use semicolons to separate expressions.)"
   ]
  },
  {
   "cell_type": "code",
   "execution_count": 27,
   "id": "7407a946",
   "metadata": {},
   "outputs": [
    {
     "name": "stdout",
     "output_type": "stream",
     "text": [
      "7 is max and 3 is min\n"
     ]
    }
   ],
   "source": [
    "3 max 7; 'is max and'; 3 min 7; 'is min'"
   ]
  },
  {
   "cell_type": "markdown",
   "id": "738e570e",
   "metadata": {},
   "source": [
    "Like all binary arithmetic operators, `max` applies elementwise."
   ]
  },
  {
   "cell_type": "code",
   "execution_count": 28,
   "id": "2e92ef0b",
   "metadata": {},
   "outputs": [
    {
     "name": "stdout",
     "output_type": "stream",
     "text": [
      "4 3 4\n"
     ]
    }
   ],
   "source": [
    "2 3 4 max 4 3 2"
   ]
  },
  {
   "cell_type": "markdown",
   "id": "a200eba9",
   "metadata": {},
   "source": [
    "Reduce using `max` to find maximum element in vector."
   ]
  },
  {
   "cell_type": "code",
   "execution_count": 29,
   "id": "1e8581ff",
   "metadata": {},
   "outputs": [
    {
     "name": "stdout",
     "output_type": "stream",
     "text": [
      "521\n"
     ]
    }
   ],
   "source": [
    "max/2 34 42 233 2 2 521 14 1 4 1 55 133"
   ]
  },
  {
   "cell_type": "markdown",
   "id": "03441f3d",
   "metadata": {},
   "source": [
    "### Multidimensional Arrays\n",
    "\n",
    "Ivy allows multidimensional arrays. The binary shape operator, `rho`, builds them.\n",
    "Dimension (which may be a vector) on the left, data on the right."
   ]
  },
  {
   "cell_type": "code",
   "execution_count": 30,
   "id": "59467c05",
   "metadata": {},
   "outputs": [
    {
     "name": "stdout",
     "output_type": "stream",
     "text": [
      "1 1 1 1 1\n",
      "1 1 1 1 1\n",
      "1 1 1 1 1\n",
      "1 1 1 1 1\n",
      "1 1 1 1 1\n",
      "1 1 1 1 1\n",
      "25 25 25 25 25\n",
      "25 25 25 25 25\n",
      "25 25 25 25 25\n",
      "25 25 25 25 25\n",
      "25 25 25 25 25\n",
      " 1  2  3  4  5\n",
      " 6  7  8  9 10\n",
      "11 12 13 14 15\n",
      "16 17 18 19 20\n",
      "21 22 23 24 25\n",
      " 1  2  3  4  5\n",
      " 6  7  8  9 10\n",
      "11 12 13 14 15\n",
      "16 17 18 19 20\n",
      "21 22 23 24 25\n",
      "\n",
      "26 27 28 29 30\n",
      "31 32 33 34 35\n",
      "36 37 38 39 40\n",
      "41 42 43 44 45\n",
      "46 47 48 49 50\n",
      "\n",
      "51 52 53 54 55\n",
      "56 57 58 59 60\n",
      "61 62 63 64 65\n",
      "66 67 68 69 70\n",
      "71 72 73 74 75\n"
     ]
    }
   ],
   "source": [
    "5 rho 1\n",
    "5 5 rho 1\n",
    "5 5 rho 25\n",
    "5 5 rho iota 25\n",
    "3 5 5 rho iota 125"
   ]
  },
  {
   "cell_type": "markdown",
   "id": "117805b2",
   "metadata": {},
   "source": [
    "Unary `rho` tells us the shape of an item."
   ]
  },
  {
   "cell_type": "code",
   "execution_count": 31,
   "id": "02e0d66a",
   "metadata": {},
   "outputs": [
    {
     "name": "stdout",
     "output_type": "stream",
     "text": [
      " 1  2  3  4  5\n",
      " 6  7  8  9 10\n",
      "11 12 13 14 15\n",
      "3 5\n",
      " 1  2  3  4  5\n",
      " 6  7  8  9 10\n",
      "11 12 13 14 15\n",
      "16 17 18 19 20\n",
      "21 22 23 24 25\n",
      "\n",
      "26 27 28 29 30\n",
      "31 32 33 34 35\n",
      "36 37 38 39 40\n",
      "41 42 43 44 45\n",
      "46 47 48 49 50\n",
      "\n",
      "51 52 53 54 55\n",
      "56 57 58 59 60\n",
      "61 62 63 64 65\n",
      "66 67 68 69 70\n",
      "71 72 73 74 75\n",
      "3 5 5\n"
     ]
    }
   ],
   "source": [
    "x = 3 5 rho iota 15; x\n",
    "rho x\n",
    "x = 3 5 5 rho iota 75; x\n",
    "rho x"
   ]
  },
  {
   "cell_type": "markdown",
   "id": "0ebf1d53",
   "metadata": {},
   "source": [
    "The binary ravel operator joins its two operands into a single vector."
   ]
  },
  {
   "cell_type": "code",
   "execution_count": 32,
   "id": "1a9e7b1d",
   "metadata": {},
   "outputs": [
    {
     "name": "stdout",
     "output_type": "stream",
     "text": [
      "1 2 3 4 5 6\n",
      "6\n"
     ]
    }
   ],
   "source": [
    "1 2 3 , 4 5 6\n",
    "rho 1 2 3 , 4 5 6"
   ]
  },
  {
   "cell_type": "markdown",
   "id": "a206dc3b",
   "metadata": {},
   "source": [
    "The unary ravel operator flattens the top level of its argument into a vector."
   ]
  },
  {
   "cell_type": "code",
   "execution_count": 33,
   "id": "a9f8b6b4",
   "metadata": {},
   "outputs": [
    {
     "name": "stdout",
     "output_type": "stream",
     "text": [
      "1 2 3 4 5 6 7 8 9 10 11 12 13 14 15\n",
      "15\n"
     ]
    }
   ],
   "source": [
    ", 3 5 rho iota 15\n",
    "rho , 3 5 rho iota 15"
   ]
  },
  {
   "cell_type": "markdown",
   "id": "09d09a30",
   "metadata": {},
   "source": [
    "Arithmetic on matrices works as you would expect by now."
   ]
  },
  {
   "cell_type": "code",
   "execution_count": 34,
   "id": "00dcdc05",
   "metadata": {},
   "outputs": [
    {
     "name": "stdout",
     "output_type": "stream",
     "text": [
      " 1/2    1  3/2    2  5/2\n",
      "   3  7/2    4  9/2    5\n",
      "11/2    6 13/2    7 15/2\n",
      "   8 17/2    9 19/2   10\n",
      "21/2   11 23/2   12 25/2\n",
      "\n",
      "  13 27/2   14 29/2   15\n",
      "31/2   16 33/2   17 35/2\n",
      "  18 37/2   19 39/2   20\n",
      "41/2   21 43/2   22 45/2\n",
      "  23 47/2   24 49/2   25\n",
      "\n",
      "51/2   26 53/2   27 55/2\n",
      "  28 57/2   29 59/2   30\n",
      "61/2   31 63/2   32 65/2\n",
      "  33 67/2   34 69/2   35\n",
      "71/2   36 73/2   37 75/2\n",
      "   1    4    9   16   25\n",
      "  36   49   64   81  100\n",
      " 121  144  169  196  225\n",
      " 256  289  324  361  400\n",
      " 441  484  529  576  625\n",
      "\n",
      " 676  729  784  841  900\n",
      " 961 1024 1089 1156 1225\n",
      "1296 1369 1444 1521 1600\n",
      "1681 1764 1849 1936 2025\n",
      "2116 2209 2304 2401 2500\n",
      "\n",
      "2601 2704 2809 2916 3025\n",
      "3136 3249 3364 3481 3600\n",
      "3721 3844 3969 4096 4225\n",
      "4356 4489 4624 4761 4900\n",
      "5041 5184 5329 5476 5625\n",
      "     1      8     27     64    125\n",
      "   216    343    512    729   1000\n",
      "  1331   1728   2197   2744   3375\n",
      "  4096   4913   5832   6859   8000\n",
      "  9261  10648  12167  13824  15625\n",
      "\n",
      " 17576  19683  21952  24389  27000\n",
      " 29791  32768  35937  39304  42875\n",
      " 46656  50653  54872  59319  64000\n",
      " 68921  74088  79507  85184  91125\n",
      " 97336 103823 110592 117649 125000\n",
      "\n",
      "132651 140608 148877 157464 166375\n",
      "175616 185193 195112 205379 216000\n",
      "226981 238328 250047 262144 274625\n",
      "287496 300763 314432 328509 343000\n",
      "357911 373248 389017 405224 421875\n",
      "                  1                1024               59049             1048576             9765625\n",
      "           60466176           282475249          1073741824          3486784401         10000000000\n",
      "        25937424601         61917364224        137858491849        289254654976        576650390625\n",
      "      1099511627776       2015993900449       3570467226624       6131066257801      10240000000000\n",
      "     16679880978201      26559922791424      41426511213649      63403380965376      95367431640625\n",
      "\n",
      "    141167095653376     205891132094649     296196766695424     420707233300201     590490000000000\n",
      "    819628286980801    1125899906842624    1531578985264449    2064377754059776    2758547353515625\n",
      "   3656158440062976    4808584372417849    6278211847988224    8140406085191601   10485760000000000\n",
      "  13422659310152401   17080198121677824   21611482313284249   27197360938418176   34050628916015625\n",
      "  42420747482776576   52599132235830049   64925062108545024   79792266297612001   97656250000000000\n",
      "\n",
      " 119042423827613001  144555105949057024  174887470365513049  210832519264920576  253295162119140625\n",
      " 303305489096114176  362033331456891249  430804206899405824  511116753300641401  604661760000000000\n",
      " 713342911662882601  839299365868340224  984930291881790849 1152921504606846976 1346274334462890625\n",
      "1568336880910795776 1822837804551761449 2113922820157210624 2446194060654759801 2824752490000000000\n",
      "3255243551009881201 3743906242624487424 4297625829703557649 4923990397355877376 5631351470947265625\n"
     ]
    }
   ],
   "source": [
    "x/2\n",
    "x**2\n",
    "x**3\n",
    "x**10"
   ]
  },
  {
   "cell_type": "markdown",
   "id": "748bb843",
   "metadata": {},
   "source": [
    "### Products\n",
    "\n",
    "Inner product is written with a `.` between the operators. \\\n",
    "This gives dot product: multiply corresponding elements and add the result."
   ]
  },
  {
   "cell_type": "code",
   "execution_count": 35,
   "id": "1738fca9",
   "metadata": {},
   "outputs": [
    {
     "name": "stdout",
     "output_type": "stream",
     "text": [
      "40\n"
     ]
    }
   ],
   "source": [
    "1 2 3 4 +.* 2 3 4 5"
   ]
  },
  {
   "cell_type": "markdown",
   "id": "97099859",
   "metadata": {},
   "source": [
    "Any operator works. How many items are the same?"
   ]
  },
  {
   "cell_type": "code",
   "execution_count": 36,
   "id": "b8fb0af9",
   "metadata": {},
   "outputs": [
    {
     "name": "stdout",
     "output_type": "stream",
     "text": [
      "2\n"
     ]
    }
   ],
   "source": [
    "(1 2 3) +.== (1 3 3)"
   ]
  },
  {
   "cell_type": "markdown",
   "id": "e05d35be",
   "metadata": {},
   "source": [
    "How many differ?"
   ]
  },
  {
   "cell_type": "code",
   "execution_count": 37,
   "id": "3edc1ed9",
   "metadata": {},
   "outputs": [
    {
     "name": "stdout",
     "output_type": "stream",
     "text": [
      "1\n"
     ]
    }
   ],
   "source": [
    "(1 2 3) +.!= (1 3 3)"
   ]
  },
  {
   "cell_type": "markdown",
   "id": "87d1ef83",
   "metadata": {},
   "source": [
    "Outer product generates a matrix of all combinations applying the binary operator."
   ]
  },
  {
   "cell_type": "code",
   "execution_count": 38,
   "id": "3c1dd467",
   "metadata": {},
   "outputs": [
    {
     "name": "stdout",
     "output_type": "stream",
     "text": [
      " 0  1  2  3  4\n",
      " 0  2  4  6  8\n",
      " 0  3  6  9 12\n",
      " 0  4  8 12 16\n",
      " 0  5 10 15 20\n"
     ]
    }
   ],
   "source": [
    "(iota 5) o.* -1 + iota 5"
   ]
  },
  {
   "cell_type": "markdown",
   "id": "75e88cfe",
   "metadata": {},
   "source": [
    "That's a letter `o`, dot, star.\n",
    "Any operator works; here is how to make an identity matrix."
   ]
  },
  {
   "cell_type": "code",
   "execution_count": 39,
   "id": "1c11966f",
   "metadata": {},
   "outputs": [
    {
     "name": "stdout",
     "output_type": "stream",
     "text": [
      "1 0 0 0 0\n",
      "0 1 0 0 0\n",
      "0 0 1 0 0\n",
      "0 0 0 1 0\n",
      "0 0 0 0 1\n"
     ]
    }
   ],
   "source": [
    "x = iota 5; x o.== x"
   ]
  },
  {
   "cell_type": "markdown",
   "id": "533fe78b",
   "metadata": {},
   "source": [
    "Assignment is an operator, so you can save an intermediate expression."
   ]
  },
  {
   "cell_type": "code",
   "execution_count": 40,
   "id": "19f0b91a",
   "metadata": {},
   "outputs": [
    {
     "name": "stdout",
     "output_type": "stream",
     "text": [
      "1 0 0 0 0\n",
      "0 1 0 0 0\n",
      "0 0 1 0 0\n",
      "0 0 0 1 0\n",
      "0 0 0 0 1\n"
     ]
    }
   ],
   "source": [
    "x o.== x = iota 5"
   ]
  },
  {
   "cell_type": "markdown",
   "id": "6ec22493",
   "metadata": {},
   "source": [
    "You can also use this trick to make an identity matrix using reshape."
   ]
  },
  {
   "cell_type": "code",
   "execution_count": 41,
   "id": "f4e9fc9d",
   "metadata": {},
   "outputs": [
    {
     "name": "stdout",
     "output_type": "stream",
     "text": [
      "1 0 0 0 0\n",
      "0 1 0 0 0\n",
      "0 0 1 0 0\n",
      "0 0 0 1 0\n",
      "0 0 0 0 1\n"
     ]
    }
   ],
   "source": [
    "5 5 rho 1 0 0 0 0 0"
   ]
  },
  {
   "cell_type": "markdown",
   "id": "e0b8f8fd",
   "metadata": {},
   "source": [
    "## Random numbers\n",
    "\n",
    "Use a unary `?` to roll an n-sided die from 1 to $n$."
   ]
  },
  {
   "cell_type": "code",
   "execution_count": 42,
   "id": "c9c7fd9f",
   "metadata": {},
   "outputs": [
    {
     "name": "stdout",
     "output_type": "stream",
     "text": [
      "3\n",
      "78\n",
      "4 5 6 1 5 3 6 4 2 2 6 3 6 6 3 4 1 4 6 1\n",
      "4 6 1 3 6 3 5 1 3 4 3 3 3 5 2 3 2 5 4 1\n"
     ]
    }
   ],
   "source": [
    "?100\n",
    "?100\n",
    "?20 rho 6  # 20 rolls of a 6-sided die.\n",
    "x = ?20 rho 6 # Remember one set of rolls.\n",
    "x"
   ]
  },
  {
   "cell_type": "markdown",
   "id": "167ce224",
   "metadata": {},
   "source": [
    "Indexing is easy."
   ]
  },
  {
   "cell_type": "code",
   "execution_count": 43,
   "id": "b1ee4b47",
   "metadata": {},
   "outputs": [
    {
     "name": "stdout",
     "output_type": "stream",
     "text": [
      "4\n",
      "4 4 1\n"
     ]
    }
   ],
   "source": [
    "x[1]\n",
    "x[1 19 3]  # You can index with a vector."
   ]
  },
  {
   "cell_type": "markdown",
   "id": "31fda472",
   "metadata": {},
   "source": [
    "Multiple index dimensions are separated by semicolons."
   ]
  },
  {
   "cell_type": "code",
   "execution_count": 44,
   "id": "a38ad86b",
   "metadata": {},
   "outputs": [
    {
     "name": "stdout",
     "output_type": "stream",
     "text": [
      "21 22 23 24 25\n",
      "16 17 18 19 20\n",
      "11 12 13 14 15\n",
      " 6  7  8  9 10\n",
      " 1  2  3  4  5\n"
     ]
    }
   ],
   "source": [
    "(5 5 rho iota 25)[rot iota 5; iota 5]"
   ]
  },
  {
   "cell_type": "markdown",
   "id": "1ccdcb09",
   "metadata": {},
   "source": [
    "(Unary `rot` reverses a vector.) \\\n",
    "The `up` and `down` operators generate index vectors that would sort the input."
   ]
  },
  {
   "cell_type": "code",
   "execution_count": 45,
   "id": "17bd2c0f",
   "metadata": {},
   "outputs": [
    {
     "name": "stdout",
     "output_type": "stream",
     "text": [
      "3 8 20 15 17 4 6 9 11 12 13 16 1 10 19 7 14 18 2 5\n",
      "1 1 1 2 2 3 3 3 3 3 3 3 4 4 4 5 5 5 6 6\n",
      "6 6 5 5 5 4 4 4 3 3 3 3 3 3 3 2 2 1 1 1\n",
      " dehllloorw\n",
      "wroolllhed \n"
     ]
    }
   ],
   "source": [
    "up x\n",
    "x[up x]\n",
    "x[down x]\n",
    "'hello world'[up 'hello world']\n",
    "'hello world'[down 'hello world']"
   ]
  },
  {
   "cell_type": "markdown",
   "id": "856e5398",
   "metadata": {},
   "source": [
    "More rolls of a die."
   ]
  },
  {
   "cell_type": "code",
   "execution_count": 46,
   "id": "06a98d9e",
   "metadata": {},
   "outputs": [
    {
     "name": "stdout",
     "output_type": "stream",
     "text": [
      "3 1 2 5 3 2 5 2 1 1\n"
     ]
    }
   ],
   "source": [
    "?10 rho 6"
   ]
  },
  {
   "cell_type": "markdown",
   "id": "4c94e4c8",
   "metadata": {},
   "source": [
    "Remember a set of rolls."
   ]
  },
  {
   "cell_type": "code",
   "execution_count": 47,
   "id": "51aaf156",
   "metadata": {},
   "outputs": [
    {
     "name": "stdout",
     "output_type": "stream",
     "text": [
      "5 3 1 6 6 6 5 3 4 3\n"
     ]
    }
   ],
   "source": [
    "x = ?10 rho 6; x"
   ]
  },
  {
   "cell_type": "markdown",
   "id": "49c1b714",
   "metadata": {},
   "source": [
    "The outer product of `==` and the integers puts 1 in each row where that value appeared. \\\n",
    "Compare the 2nd row of the next result to the 2s in `x`, for example."
   ]
  },
  {
   "cell_type": "code",
   "execution_count": 48,
   "id": "16de4530",
   "metadata": {},
   "outputs": [
    {
     "name": "stdout",
     "output_type": "stream",
     "text": [
      "0 0 1 0 0 0 0 0 0 0\n",
      "0 0 0 0 0 0 0 0 0 0\n",
      "0 1 0 0 0 0 0 1 0 1\n",
      "0 0 0 0 0 0 0 0 1 0\n",
      "1 0 0 0 0 0 1 0 0 0\n",
      "0 0 0 1 1 1 0 0 0 0\n"
     ]
    }
   ],
   "source": [
    "(iota 6) o.== x"
   ]
  },
  {
   "cell_type": "markdown",
   "id": "81e496a6",
   "metadata": {},
   "source": [
    "Count the number of times each value appears by reducing the matrix horizontally."
   ]
  },
  {
   "cell_type": "code",
   "execution_count": 49,
   "id": "6eeda3ce",
   "metadata": {},
   "outputs": [
    {
     "name": "stdout",
     "output_type": "stream",
     "text": [
      "1 0 3 1 2 3\n"
     ]
    }
   ],
   "source": [
    "+/(iota 6) o.== x"
   ]
  },
  {
   "cell_type": "markdown",
   "id": "5a3260a9",
   "metadata": {},
   "source": [
    "Do it for a much larger set of rolls: is the die fair?"
   ]
  },
  {
   "cell_type": "code",
   "execution_count": 50,
   "id": "c6e47193",
   "metadata": {},
   "outputs": [
    {
     "name": "stdout",
     "output_type": "stream",
     "text": [
      "9884 10009 9976 10027 10058 10046\n"
     ]
    }
   ],
   "source": [
    "+/(iota 6) o.== ?60000 rho 6"
   ]
  },
  {
   "cell_type": "markdown",
   "id": "1b9965e4",
   "metadata": {},
   "source": [
    "Remember that ivy is a big number calculator."
   ]
  },
  {
   "cell_type": "code",
   "execution_count": 51,
   "id": "6edcd8d4",
   "metadata": {},
   "outputs": [
    {
     "name": "stdout",
     "output_type": "stream",
     "text": [
      "93326215443944152681699238856266700490715968264381621468592963895217599993229915608941463976156518286253697920827223758251185210916864000000000000000000000000\n",
      "18446744073709551616\n",
      "2 4 8 16 32 64 128 256 512 1024 2048 4096 8192 16384 32768 65536 131072 262144 524288 1048576 2097152 4194304 8388608 16777216 33554432 67108864 134217728 268435456 536870912 1073741824 2147483648 4294967296 8589934592 17179869184 34359738368 68719476736 137438953472 274877906944 549755813888 1099511627776 2199023255552 4398046511104 8796093022208 17592186044416 35184372088832 70368744177664 140737488355328 281474976710656 562949953421312 1125899906842624 2251799813685248 4503599627370496 9007199254740992 18014398509481984 36028797018963968 72057594037927936 144115188075855872 288230376151711744 576460752303423488 1152921504606846976 2305843009213693952 4611686018427387904 9223372036854775808 18446744073709551616\n",
      "9223372036854775807\n"
     ]
    }
   ],
   "source": [
    "*/iota 100\n",
    "2**64\n",
    "2**iota 64\n",
    "-1+2**63"
   ]
  },
  {
   "cell_type": "markdown",
   "id": "03ddaf3c",
   "metadata": {},
   "source": [
    "## Special Commands\n",
    "\n",
    "Settings are made and queried with a leading right paren. `)help` helps with settings and other commands."
   ]
  },
  {
   "cell_type": "code",
   "execution_count": 52,
   "id": "32d129aa",
   "metadata": {},
   "outputs": [
    {
     "name": "stdout",
     "output_type": "stream",
     "text": [
      "Overview:\n",
      "\t)help intro\n",
      "Unary operators:\n",
      "\t)help unary\n",
      "Binary operators:\n",
      "\t)help binary\n",
      "Axis operators:\n",
      "\t)help axis\n",
      "Types and conversions:\n",
      "\t)help types\n",
      "Constants:\n",
      "\t)help constants\n",
      "Characters:\n",
      "\t)help char\n",
      "User-defined ops:\n",
      "\t)help ops\n",
      "Special commands:\n",
      "\t)help special\n",
      "Search docs:\n",
      "\t)help about <word>\n",
      "Specific op:\n",
      "\t)help <op>\n",
      "\n",
      "More at: https://pkg.go.dev/robpike.io/ivy\n"
     ]
    }
   ],
   "source": [
    ")help"
   ]
  },
  {
   "cell_type": "markdown",
   "id": "b570a4c6",
   "metadata": {},
   "source": [
    "Use `)base` to switch input and output to base 16."
   ]
  },
  {
   "cell_type": "code",
   "execution_count": 53,
   "id": "915bfbc2",
   "metadata": {},
   "outputs": [
    {
     "name": "stdout",
     "output_type": "stream",
     "text": [
      "ibase\t16\n",
      "obase\t16\n"
     ]
    }
   ],
   "source": [
    ")base 16\n",
    ")base   # The input and output for settings is always base 10."
   ]
  },
  {
   "cell_type": "markdown",
   "id": "955ed945",
   "metadata": {},
   "source": [
    "`_` is a variable that holds the most recently evaluated expression. It remembers our 63-bit number."
   ]
  },
  {
   "cell_type": "code",
   "execution_count": 54,
   "id": "bc8c7313",
   "metadata": {},
   "outputs": [
    {
     "name": "stdout",
     "output_type": "stream",
     "text": [
      "7fffffffffffffff\n",
      "2 4 8 10 20 40 80 100 200 400 800 1000 2000 4000 8000 10000\n",
      "ffffffffffffffff\n",
      "ibase\t16\n",
      "obase\t10\n"
     ]
    }
   ],
   "source": [
    "_\n",
    "1<<iota 10   # 16 powers of two, base 16.\n",
    "(2**40)-1    # The largest 64-bit number base 16.\n",
    ")obase 10    # Output base 10, input base still 16.\n",
    ")base"
   ]
  },
  {
   "cell_type": "markdown",
   "id": "487e2bab",
   "metadata": {},
   "source": [
    "The largest 63-bit number base 10."
   ]
  },
  {
   "cell_type": "code",
   "execution_count": 55,
   "id": "cefc0b48",
   "metadata": {},
   "outputs": [
    {
     "name": "stdout",
     "output_type": "stream",
     "text": [
      "18446744073709551615\n",
      "9223372036854775807\n"
     ]
    }
   ],
   "source": [
    "-1+2**40            # The largest 64-bit number base 10.\n",
    "-1+2**3F            # The largest 63-bit number base 10."
   ]
  },
  {
   "cell_type": "markdown",
   "id": "7bf09539",
   "metadata": {},
   "source": [
    "Go back to base 10 input and output."
   ]
  },
  {
   "cell_type": "code",
   "execution_count": 56,
   "id": "c856fe10",
   "metadata": {},
   "outputs": [],
   "source": [
    ")base 10"
   ]
  },
  {
   "cell_type": "markdown",
   "id": "630e46f7",
   "metadata": {},
   "source": [
    "Rationals can be very big too."
   ]
  },
  {
   "cell_type": "code",
   "execution_count": 57,
   "id": "521a7ef9",
   "metadata": {},
   "outputs": [
    {
     "name": "stdout",
     "output_type": "stream",
     "text": [
      "10715086071862673209484250490600018105614048117055336074437503883703510511249361224931983788156958581275946729175531468251871452856923140435984577574698574803934567774824230985421074605062371141877954182153046474983581941267398767559165543946077062914571196477686542167660429831652624386837205668069376/515377520732011331036461129765621272702107522001\n"
     ]
    }
   ],
   "source": [
    "(2**1e3)/(3**1e2)"
   ]
  },
  {
   "cell_type": "markdown",
   "id": "e6647b19",
   "metadata": {},
   "source": [
    "Such output can be unwieldy. Change the output format using a [Printf string](https://pkg.go.dev/fmt#hdr-Printing)."
   ]
  },
  {
   "cell_type": "code",
   "execution_count": 58,
   "id": "0bb522b7",
   "metadata": {},
   "outputs": [
    {
     "name": "stdout",
     "output_type": "stream",
     "text": [
      "2.07907517127e+253\n"
     ]
    }
   ],
   "source": [
    ")format '%.12g'\n",
    "_"
   ]
  },
  {
   "cell_type": "markdown",
   "id": "16432f1a",
   "metadata": {},
   "source": [
    "We need more precision."
   ]
  },
  {
   "cell_type": "code",
   "execution_count": 59,
   "id": "f08b1c1a",
   "metadata": {},
   "outputs": [
    {
     "name": "stdout",
     "output_type": "stream",
     "text": [
      "2.079075171273207138526077538920503817651839568925696264055357219085225759867338178432274226531692381e+253\n",
      "0x10000000000000000000000000000000000000000000000000000000000000000000000000000000000000000000000000000000000000000000000000000000000000000000000000000000000000000000000000000000000000000000000000000000000000000000000000000000000000000000000000000000000/0x5a4653ca673768565b41f775d6947d55cf3813d1\n",
      "2.07907517127e+253\n",
      "0.25  0.5 0.75    1\n",
      "1.25  1.5 1.75    2\n",
      "2.25  2.5 2.75    3\n"
     ]
    }
   ],
   "source": [
    ")format \"%.100g\"    # Double quotes work too; there's no difference.\n",
    "_\n",
    ")format '%#x'\n",
    "_\n",
    ")format '%.12g'     # A nice format, easily available by running ivy -g.\n",
    "_\n",
    "(3 4 rho iota 12)/4"
   ]
  },
  {
   "cell_type": "markdown",
   "id": "b05c25d0",
   "metadata": {},
   "source": [
    "Irrational functions cannot be represented precisely by rational numbers. \\\n",
    "Ivy stores irrational results in high-precision (default 256-bit) floating point numbers."
   ]
  },
  {
   "cell_type": "code",
   "execution_count": 60,
   "id": "f026efd2",
   "metadata": {},
   "outputs": [
    {
     "name": "stdout",
     "output_type": "stream",
     "text": [
      "1.41421356237\n"
     ]
    }
   ],
   "source": [
    "sqrt 2\n"
   ]
  },
  {
   "cell_type": "markdown",
   "id": "fe0a137b",
   "metadata": {},
   "source": [
    "`pi` ($\\pi$) and `e` ($e$) are built-in, high-precision constants."
   ]
  },
  {
   "cell_type": "code",
   "execution_count": 61,
   "id": "d33b9322",
   "metadata": {},
   "outputs": [
    {
     "name": "stdout",
     "output_type": "stream",
     "text": [
      "3.14159265359\n",
      "2.71828182846\n",
      "3.141592653589793238462643383279502884197169399375105820974944592307816406286198029453625031821349647\n",
      "3.14159265359\n"
     ]
    }
   ],
   "source": [
    "pi\n",
    "e\n",
    ")format \"%.100g\"\n",
    "pi\n",
    ")format '%.12g'\n",
    "pi"
   ]
  },
  {
   "cell_type": "markdown",
   "id": "8b19a821",
   "metadata": {},
   "source": [
    "Exponentials and logarithms."
   ]
  },
  {
   "cell_type": "code",
   "execution_count": 62,
   "id": "a1a1ed4a",
   "metadata": {},
   "outputs": [
    {
     "name": "stdout",
     "output_type": "stream",
     "text": [
      "1.41421356237\n",
      "3.0332153968e+434294\n",
      "1000000\n",
      "100000000\n",
      "2302585.09299\n"
     ]
    }
   ],
   "source": [
    "2**1/2  # Note: Non-integral exponent generates irrational result.\n",
    "e**1e6\n",
    "log e**1e6\n",
    "log e**1e8\n",
    "log 1e1000000    # Yes, that is 10 to the millionth power."
   ]
  },
  {
   "cell_type": "markdown",
   "id": "3f11b814",
   "metadata": {},
   "source": [
    "Transcendentals. (The low bit isn't always right...)"
   ]
  },
  {
   "cell_type": "code",
   "execution_count": 63,
   "id": "d8f8ca15",
   "metadata": {},
   "outputs": [
    {
     "name": "stdout",
     "output_type": "stream",
     "text": [
      "1\n",
      "1 0.707106781187 7.70893799599e-78 -0.707106781187 -1 -0.707106781187 2.38604460223e-76 0.707106781187 1\n",
      "0 0.69314718056 1.09861228867 1.38629436112 1.60943791243 1.79175946923\n"
     ]
    }
   ],
   "source": [
    "sin pi/2\n",
    "cos .25*pi * -1 + iota 9\n",
    "log iota 6"
   ]
  },
  {
   "cell_type": "markdown",
   "id": "256ff213",
   "metadata": {},
   "source": [
    "Successive approximations to $e$. (We force the calculation to use float using the `float` unary operator. Why?)"
   ]
  },
  {
   "cell_type": "code",
   "execution_count": 64,
   "id": "6d5b33fe",
   "metadata": {},
   "outputs": [
    {
     "name": "stdout",
     "output_type": "stream",
     "text": [
      "2.5937424601 2.70481382942 2.71692393224 2.71814592683 2.71826823717 2.71828046932 2.71828169254 2.71828181487 2.7182818271\n"
     ]
    }
   ],
   "source": [
    "(float 1+10**-iota 9) ** 10**iota 9"
   ]
  },
  {
   "cell_type": "markdown",
   "id": "825a356a",
   "metadata": {},
   "source": [
    "Default precision is 256 bits of mantissa. We can go up to 10000."
   ]
  },
  {
   "cell_type": "code",
   "execution_count": 65,
   "id": "ff6ce11b",
   "metadata": {},
   "outputs": [
    {
     "name": "stdout",
     "output_type": "stream",
     "text": [
      "2.71828182846\n",
      "2.718281828459045235360287471352662497757247093699959574966967627724076630353547594571382178525166427427466391932003059921817413596629043572900334295260595630738132328627943490763233829880753195251019011573834187930702154089149934884167509244761460668082264800168477411853742345442437107539077744992069551702761838606261331384583000752044933826560297606737113200709328709127443747047230696977209310141692836819025515108657463772111252389784425056953696770785449969967946864454905987931636889230098793127736178215424999229576351482208269895193668033182528869398496465105820939239829488793320362509443117301238197068416140397019837679320683282376464804295311802328782509819455815301756717361332069811250996181881593041690351598888519345807273866738589422879228499892086805825749279610484198444363463244968487560233624827041978623209002160990235304369941849146314093431738143640546253152096183690888707016768396424378140592714563549061303107208510383750510115747704171898610687396965521267154688957035035\n",
      "3.141592653589793238462643383279502884197169399375105820974944592307816406286208998628034825342117067982148086513282306647093844609550582231725359408128481117450284102701938521105559644622948954930381964428810975665933446128475648233786783165271201909145648566923460348610454326648213393607260249141273724587006606315588174881520920962829254091715364367892590360011330530548820466521384146951941511609433057270365759591953092186117381932611793105118548074462379962749567351885752724891227938183011949129833673362440656643086021394946395224737190702179860943702770539217176293176752384674818467669405132000568127145263560827785771342757789609173637178721468440901224953430146549585371050792279689258923542019956112129021960864034418159813629774771309960518707211349999998372978049951059731732816096318595024459455346908302642522308253344685035261931188171010003137838752886587533208381420617177669147303598253490428755468731159562863882353787593751957781857780532171226806613001927876611195909216420199\n",
      "1.414213562373095048801688724209698078569671875376948073176679737990732478462107038850387534327641572735013846230912297024924836055850737212644121497099935831413222665927505592755799950501152782060571470109559971605970274534596862014728517418640889198609552329230484308714321450839762603627995251407989687253396546331808829640620615258352395054745750287759961729835575220337531857011354374603408498847160386899970699004815030544027790316454247823068492936918621580578463111596668713013015618568987237235288509264861249497715421833420428568606014682472077143585487415565706967765372022648544701585880162075847492265722600208558446652145839889394437092659180031138824646815708263010059485870400318648034219489727829064104507263688131373985525611732204024509122770022694112757362728049573810896750401836986836845072579936472906076299694138047565482372899718032680247442062926912485905218100445984215059112024944134172853147810580360337107730918286931471017111168391658172688941975871658215212822951848847\n",
      "3.033215396802087545086402141418114327083973794813477409606194999786226463186423652475779202847746742446290714558395545432129784852266048111573972154970071619662426312753672165952338081406839165439617797387406693386809345382643791789520207313017803669916385087329413734978845155561041593047695514518492870899860888486790876279079993673460195981525804296515320538308004039541250564565404438626830845699313256852300335049308965955642097344950632159464124499780264161679140384450158073699019951576638643552751864612794404594352943105177824840177719398374354791814529752070264551400473211494072630218188313847711505879590919634178273346673386589833408699849444893087178299661245987731663365349607467734485353633700630247665384618591670766302011336732467528927435773076361795025813675698778304409274591236523816058283192624986872921134643072763847214550698811952942547410440826796910617006721584928462843736322021568574937532442946761515076441896645408894157376523248432895513662919201260222646320186731622e+434294\n",
      "1000000\n",
      "20790751712732071385260775389205038176518395689256962640553572190852257598673381784322742265316923818079968268215969189602199756251999333965132909951960289976500893760055198463215219092698883914498589405550491920067455174599775586168862012029023648238127.07022046010735612342287230013067007929306351019435926435028561499747440517352604713511825702766039147857499953727037090383883084362025734950710726648468500009346666636430630292715823581701770581944408657475021305573686463728114465493959674058665751620534257457985005236196057918114857289948561454225538704595167673182840177586048550697493300879332131946404945958668733624356589082017084900781744552767939649882284675393555693897791351239406170600871901402146316763999367014729002406016871658214237371538566964220527856919345434240455587742731759660673744448451839668041045815121881991267912200316539315387310602396711510323411102824513044338894430799360841703725372940892716130795137220663022833926894670773439711904995174455909277266084634431285\n"
     ]
    }
   ],
   "source": [
    ")prec 3350         # Units are bits, not digits. 2 log 10 == 3.321. Add a few more bits for floating point errors.\n",
    "e\n",
    ")format '%.1000g'  # Units are digits. (Sorry for the inconsistency.)\n",
    "e\n",
    "pi\n",
    "sqrt 2\n",
    "e**1e6\n",
    "log e**1e6\n",
    "(2**1e3)/(3**1e2)"
   ]
  },
  {
   "cell_type": "markdown",
   "id": "0fba2085",
   "metadata": {},
   "source": [
    "## User-defined operators\n",
    "\n",
    "User-defined operators are declared as unary or binary (or both). This one computes the (unary) average."
   ]
  },
  {
   "cell_type": "code",
   "execution_count": 66,
   "id": "b6f28e73",
   "metadata": {},
   "outputs": [
    {
     "name": "stdout",
     "output_type": "stream",
     "text": [
      "50.5\n"
     ]
    }
   ],
   "source": [
    "op avg x = (+/x)/rho x\n",
    "avg iota 100"
   ]
  },
  {
   "cell_type": "markdown",
   "id": "0fbf7e0a",
   "metadata": {},
   "source": [
    "Here is a binary operator."
   ]
  },
  {
   "cell_type": "code",
   "execution_count": 67,
   "id": "35c9b43b",
   "metadata": {},
   "outputs": [
    {
     "name": "stdout",
     "output_type": "stream",
     "text": [
      "993 980 975\n",
      "wroo\n"
     ]
    }
   ],
   "source": [
    "op n largest x = n take x[down x]\n",
    "3 largest ? 100 rho 1000\n",
    "4 largest 'hello world'"
   ]
  },
  {
   "cell_type": "markdown",
   "id": "f497fe47",
   "metadata": {},
   "source": [
    "Population count. Use `encode` to turn the value into a string of bits. Use `log` to decide how many."
   ]
  },
  {
   "cell_type": "code",
   "execution_count": 68,
   "id": "8611ade3",
   "metadata": {},
   "outputs": [
    {
     "name": "stdout",
     "output_type": "stream",
     "text": [
      "1 1 1\n",
      "3\n",
      "7\n",
      "105\n"
     ]
    }
   ],
   "source": [
    "op a base b = ((floor 1 + b log a) rho b) encode a\n",
    "7 base 2\n",
    "op popcount n = +/n base 2\n",
    "popcount 7\n",
    "popcount 1e6\n",
    "popcount 1e100\n"
   ]
  },
  {
   "cell_type": "markdown",
   "id": "aba4ebbf",
   "metadata": {},
   "source": [
    "Here is one to sum the digits. The unary operator `text` turns its argument into text, like sprintf."
   ]
  },
  {
   "cell_type": "code",
   "execution_count": 69,
   "id": "85430f47",
   "metadata": {},
   "outputs": [],
   "source": [
    "op sumdigits x = t = text x; +/(code (t in '0123456789') sel t) - code '0'"
   ]
  },
  {
   "cell_type": "markdown",
   "id": "90f63681",
   "metadata": {},
   "source": [
    "Break it down:  The `sel` operator selects from the right based on the non-zero elements in the left. \\\n",
    "The `in` operator generates a selector by choosing only the bytes that are ASCII digits."
   ]
  },
  {
   "cell_type": "code",
   "execution_count": 70,
   "id": "9eb05a60",
   "metadata": {},
   "outputs": [
    {
     "name": "stdout",
     "output_type": "stream",
     "text": [
      "18\n",
      "46\n",
      "5\n"
     ]
    }
   ],
   "source": [
    "sumdigits 99\n",
    "sumdigits iota 10\n",
    "sumdigits '23 skidoo'  # Note: It counts only the digits."
   ]
  },
  {
   "cell_type": "markdown",
   "id": "8deab89b",
   "metadata": {},
   "source": [
    "The binary `text` operator takes a format string (`%` optional) on the left and formats the value."
   ]
  },
  {
   "cell_type": "code",
   "execution_count": 71,
   "id": "0f8bf488",
   "metadata": {},
   "outputs": [
    {
     "name": "stdout",
     "output_type": "stream",
     "text": [
      "4d2\n"
     ]
    }
   ],
   "source": [
    "'%x' text 1234"
   ]
  },
  {
   "cell_type": "markdown",
   "id": "3ddb09cb",
   "metadata": {},
   "source": [
    "We can use this for another version of `popcount`: `%b` is binary."
   ]
  },
  {
   "cell_type": "code",
   "execution_count": 72,
   "id": "9905899c",
   "metadata": {},
   "outputs": [
    {
     "name": "stdout",
     "output_type": "stream",
     "text": [
      "3\n",
      "7\n",
      "105\n"
     ]
    }
   ],
   "source": [
    "op popcount n = +/'1' == '%b' text n\n",
    "popcount 7\n",
    "popcount 1e6\n",
    "popcount 1e100"
   ]
  },
  {
   "cell_type": "markdown",
   "id": "097e1ec2",
   "metadata": {},
   "source": [
    "A classic (expensive!) algorithm to count primes."
   ]
  },
  {
   "cell_type": "code",
   "execution_count": 73,
   "id": "3c1bc157",
   "metadata": {},
   "outputs": [],
   "source": [
    "op primes N = (not T in T o.* T) sel T = 1 drop iota N"
   ]
  },
  {
   "cell_type": "markdown",
   "id": "3620ef82",
   "metadata": {},
   "source": [
    "The assignment to `T` gives $2..N$. We use outer product to build an array of all products. \\\n",
    "Then we find all elements of `T` that appear in the product matrix, invert that, and select from the original."
   ]
  },
  {
   "cell_type": "code",
   "execution_count": 74,
   "id": "7457f88e",
   "metadata": {},
   "outputs": [
    {
     "name": "stdout",
     "output_type": "stream",
     "text": [
      "2 3 5 7 11 13 17 19 23 29 31 37 41 43 47 53 59 61 67 71 73 79 83 89 97\n"
     ]
    }
   ],
   "source": [
    "primes 100"
   ]
  },
  {
   "cell_type": "markdown",
   "id": "986025c8",
   "metadata": {},
   "source": [
    "## A final trick.\n",
    "\n",
    "The binary `?` operator \"deals\": `x?y` selects at random $x$ distinct integers from $1..y$ inclusive."
   ]
  },
  {
   "cell_type": "code",
   "execution_count": 75,
   "id": "4d3909c1",
   "metadata": {},
   "outputs": [
    {
     "name": "stdout",
     "output_type": "stream",
     "text": [
      "5 4 7 1 3\n"
     ]
    }
   ],
   "source": [
    "5?10"
   ]
  },
  {
   "cell_type": "markdown",
   "id": "40c5fc12",
   "metadata": {},
   "source": [
    "We can use this to shuffle a deck of cards. The suits are ♠♡♣♢, the values\n",
    "A234567890JQK (using 0 for 10, for simplicity).\n",
    "Create the deck using outer product with the ravel operator:"
   ]
  },
  {
   "cell_type": "code",
   "execution_count": 76,
   "id": "95776dbf",
   "metadata": {},
   "outputs": [
    {
     "name": "stdout",
     "output_type": "stream",
     "text": [
      "A♠ A♡ A♣ A♢\n",
      "2♠ 2♡ 2♣ 2♢\n",
      "3♠ 3♡ 3♣ 3♢\n",
      "4♠ 4♡ 4♣ 4♢\n",
      "5♠ 5♡ 5♣ 5♢\n",
      "6♠ 6♡ 6♣ 6♢\n",
      "7♠ 7♡ 7♣ 7♢\n",
      "8♠ 8♡ 8♣ 8♢\n",
      "9♠ 9♡ 9♣ 9♢\n",
      "0♠ 0♡ 0♣ 0♢\n",
      "J♠ J♡ J♣ J♢\n",
      "Q♠ Q♡ Q♣ Q♢\n",
      "K♠ K♡ K♣ K♢\n"
     ]
    }
   ],
   "source": [
    "\"A234567890JQK\" o., \"♠♡♣♢\""
   ]
  },
  {
   "cell_type": "markdown",
   "id": "a310e862",
   "metadata": {},
   "source": [
    "To shuffle it, ravel it into a vector and index that by 1 through 52, shuffled."
   ]
  },
  {
   "cell_type": "code",
   "execution_count": 77,
   "id": "995f4bfa",
   "metadata": {},
   "outputs": [
    {
     "name": "stdout",
     "output_type": "stream",
     "text": [
      "6♠ 9♡ A♢ 5♠ J♣ 8♠ 3♡ 5♡ 6♡ 9♣ J♠ 3♠ 3♢ 7♣ 4♡ J♡ K♣ 4♠ 9♢ Q♢ 8♡ 4♢ K♡ 8♣ A♠ Q♠ 7♢ 0♠ 2♢ 0♣ 6♢ A♣ K♠ 8♢ K♢ 2♠ 4♣ J♢ 5♣ 0♡ 9♠ 3♣ Q♡ 2♣ 5♢ 0♢ 6♣ Q♣ 7♡ A♡ 2♡ 7♠\n"
     ]
    }
   ],
   "source": [
    "(, \"A234567890JQK\" o., \"♠♡♣♢\")[52?52]"
   ]
  },
  {
   "cell_type": "markdown",
   "id": "6b7a6ed2",
   "metadata": {},
   "source": [
    "There is no looping construct in ivy, but there is a conditional evaluator.\n",
    "Within a user-defined operator, one can write a condition expression\n",
    "using a binary operator, `:`. If the left-hand operand is true (integer non-zero),\n",
    "the user-defined operator will return the right-hand operand as its\n",
    "result; otherwise execution continues."
   ]
  },
  {
   "cell_type": "code",
   "execution_count": 78,
   "id": "dcd9d1c2",
   "metadata": {},
   "outputs": [
    {
     "name": "stdout",
     "output_type": "stream",
     "text": [
      "22\n"
     ]
    }
   ],
   "source": [
    "op a gcd b = a == b: a; a > b: b gcd a-b; a gcd b-a\n",
    "1562 gcd !11"
   ]
  },
  {
   "cell_type": "markdown",
   "id": "f64a7301",
   "metadata": {},
   "source": [
    "That's it! Have fun. \\\n",
    "For more information visit https://pkg.go.dev/robpike.io/ivy"
   ]
  }
 ],
 "metadata": {
  "kernelspec": {
   "display_name": "Ivy",
   "language": "ivy",
   "name": "ivy"
  },
  "language_info": {
   "file_extension": ".ivy",
   "name": "ivy",
   "version": "v0.2.11"
  }
 },
 "nbformat": 4,
 "nbformat_minor": 5
}
